{
 "cells": [
  {
   "cell_type": "code",
   "execution_count": 13,
   "id": "6468a31d-0509-4eb1-81aa-c6051eb5c9d1",
   "metadata": {},
   "outputs": [],
   "source": [
    "# !wget https://d28rh4a8wq0iu5.cloudfront.net/ads1/data/chr1.GRCh38.excerpt.fasta\n",
    "# !wget https://d28rh4a8wq0iu5.cloudfront.net/ads1/data/ERR266411_1.for_asm.fastq"
   ]
  },
  {
   "cell_type": "code",
   "execution_count": 2,
   "id": "baffb4b2-c597-45e7-aca0-6fa4b0fe2c85",
   "metadata": {},
   "outputs": [],
   "source": [
    "def readGenome(filename):\n",
    "    genome = ''\n",
    "    with open(filename, 'r') as f:\n",
    "        for line in f:\n",
    "            if not line[0] == '>':\n",
    "                genome += line.rstrip()  # rstrip removes any trailing white spaces, tabs at end of string\n",
    "    return genome"
   ]
  },
  {
   "cell_type": "code",
   "execution_count": 22,
   "id": "8cf94667-c554-4471-a857-fb15a91630a0",
   "metadata": {},
   "outputs": [],
   "source": [
    "def readFastq(filename):\n",
    "    sequences = []\n",
    "    qualities = []\n",
    "    with open(filename) as fh:\n",
    "        while True:\n",
    "            fh.readline()  # skip name line\n",
    "            seq = fh.readline().rstrip()  # read base sequence\n",
    "            fh.readline()  # skip placeholder line\n",
    "            qual = fh.readline().rstrip() # base quality line\n",
    "            if len(seq) == 0:\n",
    "                break\n",
    "            sequences.append(seq)\n",
    "            qualities.append(qual)\n",
    "    return sequences, qualities"
   ]
  },
  {
   "cell_type": "code",
   "execution_count": 3,
   "id": "01ad4967-e1b6-40bb-b11a-d6b3a4de0ccc",
   "metadata": {},
   "outputs": [],
   "source": [
    "def editDistance(x, y):\n",
    "    # Create distance matrix\n",
    "    D = []\n",
    "    for i in range(len(x)+1):\n",
    "        D.append([0]*(len(y)+1))\n",
    "    # Initialize first row and column of matrix\n",
    "    for i in range(len(x)+1):\n",
    "        D[i][0] = i\n",
    "    for i in range(len(y)+1):\n",
    "        D[0][i] = i\n",
    "    # Fill in the rest of the matrix\n",
    "    for i in range(1, len(x)+1):\n",
    "        for j in range(1, len(y)+1):\n",
    "            distHor = D[i][j-1] + 1\n",
    "            distVer = D[i-1][j] + 1\n",
    "            if x[i-1] == y[j-1]:\n",
    "                distDiag = D[i-1][j-1]\n",
    "            else:\n",
    "                distDiag = D[i-1][j-1] + 1\n",
    "            D[i][j] = min(distHor, distVer, distDiag)\n",
    "    # Edit distance is the value in the bottom right corner of the matrix\n",
    "    return D[-1][-1]"
   ]
  },
  {
   "cell_type": "code",
   "execution_count": 16,
   "id": "b73c8e1b-63b5-47f6-8ee1-5b08ac363157",
   "metadata": {},
   "outputs": [],
   "source": [
    "def bestApproximateMatchEditDistance(p, t):\n",
    "    \"\"\"Returns the edit distance between two strings, p and t\"\"\"\n",
    "    # Create distance matrix\n",
    "    D = []\n",
    "    for i in range(len(p)+1):\n",
    "        D.append([0]*(len(t)+1))\n",
    "    \n",
    "    # Initialize first row and column of matrix\n",
    "    for i in range(len(p)+1):\n",
    "        D[i][0] = i\n",
    "    \n",
    "    # Fill in the rest of the matrix\n",
    "    for i in range(1, len(p)+1):\n",
    "        for j in range(1, len(t)+1):\n",
    "            distHor = D[i][j-1] + 1\n",
    "            distVer = D[i-1][j] + 1\n",
    "            if p[i-1] == t[j-1]:\n",
    "                distDiag = D[i-1][j-1]\n",
    "            else:\n",
    "                distDiag = D[i-1][j-1] + 1\n",
    "            D[i][j] = min(distHor, distVer, distDiag)\n",
    "\n",
    "    # Best Approximate Match Distance is the smallest value of the last row\n",
    "    return min(D[-1])"
   ]
  },
  {
   "cell_type": "code",
   "execution_count": 10,
   "id": "bda16ab6-329a-4c71-ac59-a695dc08860d",
   "metadata": {},
   "outputs": [],
   "source": [
    "def overlap(a, b, min_length=3):\n",
    "    \"\"\" Return length of longest suffix of 'a' matching\n",
    "        a prefix of 'b' that is at least 'min_length'\n",
    "        characters long.  If no such overlap exists,\n",
    "        return 0. \"\"\"\n",
    "    start = 0  # start all the way at the left\n",
    "    while True:\n",
    "        start = a.find(b[:min_length], start)  # look for b's suffx in a\n",
    "        if start == -1:  # no more occurrences to right\n",
    "            return 0\n",
    "        # found occurrence; check for full suffix/prefix match\n",
    "        if b.startswith(a[start:]):\n",
    "            return len(a)-start\n",
    "        start += 1  # move just past previous match"
   ]
  },
  {
   "cell_type": "code",
   "execution_count": 23,
   "id": "6fa7d0e5-2c03-4af6-b907-48bafc24832a",
   "metadata": {},
   "outputs": [],
   "source": [
    "def getkmers(read, kmer_length):\n",
    "    \"\"\"our read is GATTA and k=3, we would add GATTA to the set objects for GAT, ATT and TTA.\"\"\"\n",
    "    return [read[i:i+kmer_length] for i in range(len(read)+1-kmer_length)]\n",
    "\n",
    "def overlap_all_pairs(reads, min_length):\n",
    "    overlap_map = {}\n",
    "    overlap_graph = {}\n",
    "    overlap_pairs = []\n",
    "    \n",
    "    # use Python dict to associate each k-mer with corresponding set\n",
    "    suffix_dict = {}\n",
    "    for read in reads:\n",
    "        kmers = getkmers(read, min_length)\n",
    "        \n",
    "        # for every k-mer in read, add to corresponding set object\n",
    "        for kmer in kmers:\n",
    "            if not kmer in suffix_dict.keys():\n",
    "                # every k-mer will have set object\n",
    "                suffix_dict[kmer] = set()\n",
    "            suffix_dict[kmer].add(read)\n",
    "    \n",
    "    # for each read a, find all overlaps involving suffix of a\n",
    "    for read in reads:\n",
    "        # a's length-k suffix\n",
    "        suffix = read[-min_length:]\n",
    "        \n",
    "        # find all reads containing the suffix from its corresponding set\n",
    "        matching_reads = suffix_dict[suffix]\n",
    "        \n",
    "        # call overlap(a, b, min_length=k) for each read\n",
    "        for read2 in matching_reads:\n",
    "            if read2 != read:\n",
    "                value = overlap(read, read2, min_length)\n",
    "                if value > 0:\n",
    "                    overlap_map[(read, read2)] = value\n",
    "                    overlap_graph[read] = read2\n",
    "                    overlap_pairs.append((read, read2))\n",
    "    \n",
    "    return overlap_pairs, overlap_map, overlap_graph"
   ]
  },
  {
   "cell_type": "code",
   "execution_count": 18,
   "id": "d497342e-e5cb-434f-baf0-49d0b95217f3",
   "metadata": {},
   "outputs": [],
   "source": [
    "genome = readGenome('chr1.GRCh38.excerpt.fasta')"
   ]
  },
  {
   "cell_type": "code",
   "execution_count": 19,
   "id": "acd42375-57ee-4028-9d53-797f8d2eb782",
   "metadata": {},
   "outputs": [
    {
     "data": {
      "text/plain": [
       "3"
      ]
     },
     "execution_count": 19,
     "metadata": {},
     "output_type": "execute_result"
    }
   ],
   "source": [
    "# question 1\n",
    "p = 'GCTGATCGATCGTACG'\n",
    "bestApproximateMatchEditDistance(p, genome)"
   ]
  },
  {
   "cell_type": "code",
   "execution_count": 20,
   "id": "72720817-f671-40ad-a585-fc832d9a6d81",
   "metadata": {},
   "outputs": [
    {
     "data": {
      "text/plain": [
       "2"
      ]
     },
     "execution_count": 20,
     "metadata": {},
     "output_type": "execute_result"
    }
   ],
   "source": [
    "# question 2\n",
    "p = 'GATTTACCAGATTGAG'\n",
    "bestApproximateMatchEditDistance(p, genome)"
   ]
  },
  {
   "cell_type": "code",
   "execution_count": 25,
   "id": "72cbf881-f51b-4e3e-b6ab-b325063599dd",
   "metadata": {},
   "outputs": [
    {
     "name": "stdout",
     "output_type": "stream",
     "text": [
      "q3: 904746\n",
      "q4: 7161\n"
     ]
    }
   ],
   "source": [
    "# question 3 and 4\n",
    "reads, qualities = readFastq('ERR266411_1.for_asm.fastq')\n",
    "overlap_pairs, overlap_map, overlap_graph = overlap_all_pairs(reads, 30)\n",
    "\n",
    "print(f'q3: {len(overlap_map)}')\n",
    "print(f'q4: {len(overlap_graph)}')"
   ]
  },
  {
   "cell_type": "code",
   "execution_count": null,
   "id": "05af9f2e-a6ad-4599-bc8b-cc4dc3b9a0d6",
   "metadata": {},
   "outputs": [],
   "source": []
  }
 ],
 "metadata": {
  "kernelspec": {
   "display_name": "genomics",
   "language": "python",
   "name": "genomics"
  },
  "language_info": {
   "codemirror_mode": {
    "name": "ipython",
    "version": 3
   },
   "file_extension": ".py",
   "mimetype": "text/x-python",
   "name": "python",
   "nbconvert_exporter": "python",
   "pygments_lexer": "ipython3",
   "version": "3.9.7"
  }
 },
 "nbformat": 4,
 "nbformat_minor": 5
}
