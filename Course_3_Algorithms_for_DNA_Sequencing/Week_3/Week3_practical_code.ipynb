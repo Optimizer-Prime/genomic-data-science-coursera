{
 "cells": [
  {
   "cell_type": "markdown",
   "metadata": {},
   "source": [
    "# Implementing dynamic programming for edit distance"
   ]
  },
  {
   "cell_type": "code",
   "execution_count": 1,
   "metadata": {},
   "outputs": [],
   "source": [
    "def editDistRecursive(x, y):\n",
    "    # This implementation is very slow\n",
    "    if len(x) == 0:\n",
    "        return len(y)\n",
    "    elif len(y) == 0:\n",
    "        return len(x)\n",
    "    else:\n",
    "        distHor = editDistRecursive(x[:-1], y) + 1\n",
    "        distVer = editDistRecursive(x, y[:-1]) + 1\n",
    "        if x[-1] == y[-1]:\n",
    "            distDiag = editDistRecursive(x[:-1], y[:-1])\n",
    "        else:\n",
    "            distDiag = editDistRecursive(x[:-1], y[:-1]) + 1\n",
    "        return min(distHor, distVer, distDiag)"
   ]
  },
  {
   "cell_type": "code",
   "execution_count": 2,
   "metadata": {},
   "outputs": [],
   "source": [
    "def editDistance(x, y):\n",
    "    D = []\n",
    "    for i in range(len(x) + 1):\n",
    "        D.append([0] * (len(y) + 1))\n",
    "        \n",
    "    for i in range(len(x)):\n",
    "        D[i][0] = i\n",
    "    for i in range(len(y) + 1):\n",
    "        D[0][i] = i\n",
    "        \n",
    "    for i in range(1, len(x) + 1):\n",
    "        for j in range(1, len(y) + 1):\n",
    "            distHor = D[i][j-1] + 1\n",
    "            distVer = D[i-1][j] + 1\n",
    "            if x[i-1] == y[j-1]:\n",
    "                distDiag = D[i-1][j-1]\n",
    "            else:\n",
    "                distDiag = D[i-1][j-1] + 1\n",
    "                \n",
    "            D[i][j] = min(distHor, distVer, distDiag)\n",
    "    \n",
    "    return D[-1][-1]"
   ]
  },
  {
   "cell_type": "code",
   "execution_count": 3,
   "metadata": {},
   "outputs": [
    {
     "name": "stdout",
     "output_type": "stream",
     "text": [
      "3\n",
      "CPU times: user 3.82 s, sys: 0 ns, total: 3.82 s\n",
      "Wall time: 3.85 s\n"
     ]
    }
   ],
   "source": [
    "%%time\n",
    "x = 'shake spea'\n",
    "y = 'Shakespear'\n",
    "print(editDistRecursive(x,y))"
   ]
  },
  {
   "cell_type": "code",
   "execution_count": 4,
   "metadata": {},
   "outputs": [
    {
     "name": "stdout",
     "output_type": "stream",
     "text": [
      "3\n",
      "CPU times: user 158 µs, sys: 0 ns, total: 158 µs\n",
      "Wall time: 152 µs\n"
     ]
    }
   ],
   "source": [
    "%%time\n",
    "x = 'shake spea'\n",
    "y = 'Shakespear'\n",
    "print(editDistance(x,y))"
   ]
  },
  {
   "cell_type": "markdown",
   "metadata": {},
   "source": [
    "# Implementing global alignment"
   ]
  },
  {
   "cell_type": "code",
   "execution_count": 5,
   "metadata": {},
   "outputs": [],
   "source": [
    "alphabet = ['A', 'C', 'G', 'T']\n",
    "\n",
    "# penatly matrix\n",
    "score = [[0, 4, 2, 4, 8], \\\n",
    "        [4, 0, 4, 2, 8], \\\n",
    "        [2, 4, 0, 4, 8], \\\n",
    "        [4, 2, 4, 0, 8], \\\n",
    "        [8, 8, 8, 8, 8]] "
   ]
  },
  {
   "cell_type": "code",
   "execution_count": 6,
   "metadata": {},
   "outputs": [],
   "source": [
    "def globalAlignment(x, y):\n",
    "    D = []\n",
    "    for i in range(len(x) + 1):\n",
    "        D.append([0] * (len(y) + 1))\n",
    "        \n",
    "    for i in range(1, len(x) + 1):\n",
    "        D[i][0] = D[i-1][0] + score[alphabet.index(x[i-1])][-1]\n",
    "    for i in range(1, len(y) + 1):\n",
    "        D[0][i] = D[0][-1] + score[-1][alphabet.index(y[i-1])]\n",
    "        \n",
    "    for i in range(1, len(x) + 1):\n",
    "        for j in range(1, len(y) + 1):\n",
    "            distHor = D[i][j-1] + score[-1][alphabet.index(y[j-1])]\n",
    "            distVer = D[i-1][j] + score[alphabet.index(x[i-1])][-1]\n",
    "            if x[i-1] == y[j-1]:\n",
    "                distDiag = D[i-1][j-1]\n",
    "            else:\n",
    "                distDiag = D[i-1][j-1] + score[alphabet.index(x[i-1])][alphabet.index(y[j-1])]\n",
    "                \n",
    "            D[i][j] = min(distHor, distVer, distDiag)\n",
    "    \n",
    "    return D[-1][-1]"
   ]
  },
  {
   "cell_type": "markdown",
   "metadata": {},
   "source": [
    "# Overlaps between pairs of reads"
   ]
  },
  {
   "cell_type": "code",
   "execution_count": 19,
   "metadata": {},
   "outputs": [],
   "source": [
    "def overlap(a, b, min_length=3):\n",
    "    \"\"\" Return length of longest suffix of 'a' matching\n",
    "        a prefix of 'b' that is at least 'min_length'\n",
    "        characters long.  If no such overlap exists,\n",
    "        return 0. \"\"\"\n",
    "    start = 0  # start all the way at the left\n",
    "    while True:\n",
    "        start = a.find(b[:min_length], start)  # look for b's suffx in a\n",
    "        if start == -1:  # no more occurrences to right\n",
    "            return 0\n",
    "        # found occurrence; check for full suffix/prefix match\n",
    "        if b.startswith(a[start:]):\n",
    "            return len(a)-start\n",
    "        start += 1  # move just past previous match"
   ]
  },
  {
   "cell_type": "code",
   "execution_count": 8,
   "metadata": {},
   "outputs": [
    {
     "data": {
      "text/plain": [
       "3"
      ]
     },
     "execution_count": 8,
     "metadata": {},
     "output_type": "execute_result"
    }
   ],
   "source": [
    "overlap('TTACGT', 'CGTACCGT')"
   ]
  },
  {
   "cell_type": "code",
   "execution_count": 10,
   "metadata": {},
   "outputs": [
    {
     "data": {
      "text/plain": [
       "0"
      ]
     },
     "execution_count": 10,
     "metadata": {},
     "output_type": "execute_result"
    }
   ],
   "source": [
    "overlap('TTACT', 'CGTACCGT')  # only overlap of 2"
   ]
  },
  {
   "cell_type": "markdown",
   "metadata": {},
   "source": [
    "# Finding and representing all overlaps"
   ]
  },
  {
   "cell_type": "code",
   "execution_count": 12,
   "metadata": {},
   "outputs": [
    {
     "data": {
      "text/plain": [
       "[(1, 2, 3), (1, 3, 2), (2, 1, 3), (2, 3, 1), (3, 1, 2), (3, 2, 1)]"
      ]
     },
     "execution_count": 12,
     "metadata": {},
     "output_type": "execute_result"
    }
   ],
   "source": [
    "from itertools import permutations\n",
    "\n",
    "list(permutations([1,2,3], 3))"
   ]
  },
  {
   "cell_type": "code",
   "execution_count": 14,
   "metadata": {},
   "outputs": [],
   "source": [
    "def naive_overlap_map(reads, k):\n",
    "    olaps = {}\n",
    "    for a,b in permutations(reads, 2):\n",
    "        olen = overlap(a, b, min_length=k)\n",
    "        if olen > 0:\n",
    "            olaps[(a,b)] = olen\n",
    "    return olaps"
   ]
  },
  {
   "cell_type": "code",
   "execution_count": 18,
   "metadata": {},
   "outputs": [
    {
     "name": "stdout",
     "output_type": "stream",
     "text": [
      "{('ACGGATC', 'GATCAAGT'): 4, ('TTCACGGA', 'ACGGATC'): 5}\n"
     ]
    }
   ],
   "source": [
    "reads = ['ACGGATC', 'GATCAAGT', 'TTCACGGA']\n",
    "print(naive_overlap_map(reads, 3))"
   ]
  },
  {
   "cell_type": "code",
   "execution_count": null,
   "metadata": {},
   "outputs": [],
   "source": []
  }
 ],
 "metadata": {
  "kernelspec": {
   "display_name": "genomics",
   "language": "python",
   "name": "genomics"
  },
  "language_info": {
   "codemirror_mode": {
    "name": "ipython",
    "version": 3
   },
   "file_extension": ".py",
   "mimetype": "text/x-python",
   "name": "python",
   "nbconvert_exporter": "python",
   "pygments_lexer": "ipython3",
   "version": "3.9.7"
  }
 },
 "nbformat": 4,
 "nbformat_minor": 4
}
