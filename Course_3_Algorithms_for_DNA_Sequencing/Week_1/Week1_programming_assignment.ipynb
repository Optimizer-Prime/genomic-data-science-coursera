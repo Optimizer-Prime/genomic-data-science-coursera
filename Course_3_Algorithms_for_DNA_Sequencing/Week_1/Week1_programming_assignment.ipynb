{
 "cells": [
  {
   "cell_type": "markdown",
   "metadata": {},
   "source": [
    "# Naive exact matching plus reverse complement"
   ]
  },
  {
   "cell_type": "markdown",
   "metadata": {},
   "source": [
    "The goal is to implement the naive exact matching algorithm that is strand-aware. Meaning, it will look for occurrences of the target sequence in the genome, along with the reverse complement of the sequence. "
   ]
  },
  {
   "cell_type": "code",
   "execution_count": 16,
   "metadata": {},
   "outputs": [],
   "source": [
    "from collections import Counter"
   ]
  },
  {
   "cell_type": "code",
   "execution_count": 1,
   "metadata": {},
   "outputs": [],
   "source": [
    "def readFastq(filename):\n",
    "    '''Parses read and quality strings from FASTQ file format.'''\n",
    "    sequences = []\n",
    "    qualities = []\n",
    "    with open(filename) as fh:\n",
    "        while True:\n",
    "            fh.readline()  # skip name line\n",
    "            seq = fh.readline().rstrip()  # read base sequence\n",
    "            fh.readline()  # skip placeholder line\n",
    "            qual = fh.readline().rstrip() # base quality line\n",
    "            if len(seq) == 0:\n",
    "                break\n",
    "            sequences.append(seq)\n",
    "            qualities.append(qual)\n",
    "    return sequences, qualities\n"
   ]
  },
  {
   "cell_type": "code",
   "execution_count": 2,
   "metadata": {},
   "outputs": [],
   "source": [
    "def reverseComplement(sequence):\n",
    "    '''Creates reverse complement sequence from input sequence'''\n",
    "    complement = {'A': 'T', 'C': 'G', 'G': 'C', 'T': 'A', 'N': 'N'}\n",
    "    reversed_seq = ''\n",
    "    for base in sequence:\n",
    "        reversed_seq = complement[base] + reversed_seq\n",
    "    return reversed_seq"
   ]
  },
  {
   "cell_type": "code",
   "execution_count": 3,
   "metadata": {},
   "outputs": [],
   "source": [
    "def readGenome(filename):\n",
    "    '''Parses DNA sequence from FASTA file format.'''\n",
    "    genome = ''\n",
    "    with open(filename, 'r') as f:\n",
    "        for line in f:\n",
    "            # ignore header line with genome information\n",
    "            if not line[0] == '>':\n",
    "                genome += line.rstrip()\n",
    "    return genome"
   ]
  },
  {
   "cell_type": "code",
   "execution_count": 24,
   "metadata": {},
   "outputs": [],
   "source": [
    "def reverse(s):\n",
    "  str = \"\"\n",
    "  for i in s:\n",
    "    str = i + str\n",
    "  return str"
   ]
  },
  {
   "cell_type": "code",
   "execution_count": 50,
   "metadata": {},
   "outputs": [],
   "source": [
    "def naive(pattern, text):\n",
    "    occurrences = []\n",
    "    for i in range(len(text) - len(pattern) + 1):  # loop over alignments\n",
    "        match = True\n",
    "        for j in range(len(pattern)):  # loop over characters\n",
    "            if text[i+j] != pattern[j]:  # compare characters\n",
    "                match = False\n",
    "                break\n",
    "        if match:\n",
    "            occurrences.append(i)  # all chars matched; record\n",
    "    return occurrences"
   ]
  },
  {
   "cell_type": "code",
   "execution_count": 52,
   "metadata": {},
   "outputs": [],
   "source": [
    "def naive_2mm(pattern, text):\n",
    "    occurrences = []\n",
    "    for i in range(len(text) - len(pattern) + 1):  # loop over alignments\n",
    "        match = True\n",
    "        mismatch = 0\n",
    "        for j in range(len(pattern)):  # loop over characters\n",
    "            if text[i+j] != pattern[j]:  # compare characters\n",
    "                mismatch += 1\n",
    "            if mismatch > 2:\n",
    "                match = False\n",
    "                break\n",
    "        if match:\n",
    "            occurrences.append(i)  # all chars matched; record\n",
    "    return occurrences"
   ]
  },
  {
   "cell_type": "code",
   "execution_count": 34,
   "metadata": {},
   "outputs": [],
   "source": [
    "def naive_with_rc(pattern, text):\n",
    "    '''Execute exact matching algorithm on given pattern and its reverse complement.'''\n",
    "    occurrences = []\n",
    "    rev_comp = reverseComplement(p)\n",
    "    check_equal = reverse(rev_comp)\n",
    "    \n",
    "    for i in range(len(text) - len(pattern) + 1):  # loop over alignments\n",
    "        match = True  # initialize to true\n",
    "        for j in range(len(pattern)):  # loop over characters\n",
    "            if pattern != check_equal:\n",
    "                if text[i+j] != pattern[j] and text[i+j] != rev_comp[j]:  # compare characters\n",
    "                    match = False\n",
    "                    break\n",
    "            elif text[i+j] != pattern[j]:\n",
    "                match = False\n",
    "                break\n",
    "        if match:\n",
    "            occurrences.append(i)  # all chars matched; record\n",
    "    return occurrences"
   ]
  },
  {
   "cell_type": "code",
   "execution_count": 69,
   "metadata": {},
   "outputs": [],
   "source": [
    "def phred33ToQ(qual):\n",
    "    return ord(qual) - 33"
   ]
  },
  {
   "cell_type": "code",
   "execution_count": 70,
   "metadata": {},
   "outputs": [],
   "source": [
    "def createHist(qualities):\n",
    "    hist = [0] * 50  # highest is 41, 50 for padding\n",
    "    for qual in qualities:\n",
    "        for phred in qual:\n",
    "            q = phred33ToQ(phred)\n",
    "            hist[q] += 1\n",
    "    return hist"
   ]
  },
  {
   "cell_type": "code",
   "execution_count": 35,
   "metadata": {},
   "outputs": [
    {
     "name": "stdout",
     "output_type": "stream",
     "text": [
      "[10, 23]\n"
     ]
    }
   ],
   "source": [
    "# test scenario 1\n",
    "p = 'CCC'\n",
    "ten_as = 'AAAAAAAAAA'\n",
    "t = ten_as + 'CCC' + ten_as + 'GGG' + ten_as\n",
    "occurrences = naive_with_rc(p, t)\n",
    "print(occurrences)"
   ]
  },
  {
   "cell_type": "code",
   "execution_count": 36,
   "metadata": {},
   "outputs": [
    {
     "name": "stdout",
     "output_type": "stream",
     "text": [
      "[10, 24]\n"
     ]
    }
   ],
   "source": [
    "# test scenario 2\n",
    "p = 'CGCG'\n",
    "t = ten_as + 'CGCG' + ten_as + 'CGCG' + ten_as\n",
    "occurrences = naive_with_rc(p, t)\n",
    "print(occurrences)"
   ]
  },
  {
   "cell_type": "code",
   "execution_count": 37,
   "metadata": {},
   "outputs": [],
   "source": [
    "# test scenario 3\n",
    "# Phi-X genome\n",
    "# !wget http://d396qusza40orc.cloudfront.net/ads1/data/phix.fa"
   ]
  },
  {
   "cell_type": "code",
   "execution_count": 38,
   "metadata": {},
   "outputs": [],
   "source": [
    "phix_genome = readGenome('phix.fa')"
   ]
  },
  {
   "cell_type": "code",
   "execution_count": 39,
   "metadata": {},
   "outputs": [],
   "source": [
    "occurrences = naive_with_rc('ATTA', phix_genome)"
   ]
  },
  {
   "cell_type": "code",
   "execution_count": 40,
   "metadata": {},
   "outputs": [
    {
     "name": "stdout",
     "output_type": "stream",
     "text": [
      "offset of leftmost occurrence: 7\n",
      "# occurrences: 285\n"
     ]
    }
   ],
   "source": [
    "print('offset of leftmost occurrence: %d' % min(occurrences))\n",
    "print('# occurrences: %d' % len(occurrences))"
   ]
  },
  {
   "cell_type": "code",
   "execution_count": 11,
   "metadata": {},
   "outputs": [],
   "source": [
    "# download and parse lambda virus\n",
    "# !wget https://d28rh4a8wq0iu5.cloudfront.net/ads1/data/lambda_virus.fa"
   ]
  },
  {
   "cell_type": "code",
   "execution_count": 12,
   "metadata": {},
   "outputs": [],
   "source": [
    "lambda_genome = readGenome('lambda_virus.fa')"
   ]
  },
  {
   "cell_type": "code",
   "execution_count": 63,
   "metadata": {},
   "outputs": [
    {
     "name": "stdout",
     "output_type": "stream",
     "text": [
      "306\n"
     ]
    }
   ],
   "source": [
    "# question 1\n",
    "p1 = 'AGGT'\n",
    "q1_occurrences = naive(p1, lambda_genome)\n",
    "q1_occurrences2 = naive(reverseComplement(p1), lambda_genome)\n",
    "print(len(q1_occurrences) + len(q1_occurrences2))"
   ]
  },
  {
   "cell_type": "code",
   "execution_count": 45,
   "metadata": {},
   "outputs": [
    {
     "name": "stdout",
     "output_type": "stream",
     "text": [
      "195\n"
     ]
    }
   ],
   "source": [
    "# question 2\n",
    "p2 = 'TTAA'\n",
    "q2_occurrences = naive(p2, lambda_genome)\n",
    "print(len(q2_occurrences))"
   ]
  },
  {
   "cell_type": "code",
   "execution_count": 48,
   "metadata": {},
   "outputs": [
    {
     "name": "stdout",
     "output_type": "stream",
     "text": [
      "offset of leftmost occurrence: 27733\n",
      "offset of leftmost occurrence: 26028\n"
     ]
    }
   ],
   "source": [
    "# question 3\n",
    "p3 = 'ACTAAGT'\n",
    "q3_occurrences = naive(p3, lambda_genome)\n",
    "print(f'offset of leftmost occurrence: {min(q3_occurrences)}')\n",
    "q3_occurrences2 = naive(reverseComplement(p3), lambda_genome)\n",
    "print(f'offset of leftmost occurrence: {min(q3_occurrences2)}')"
   ]
  },
  {
   "cell_type": "code",
   "execution_count": 49,
   "metadata": {},
   "outputs": [
    {
     "name": "stdout",
     "output_type": "stream",
     "text": [
      "offset of leftmost occurrence: 18005\n",
      "offset of leftmost occurrence: 450\n"
     ]
    }
   ],
   "source": [
    "# question 4\n",
    "p4 = 'AGTCGA'\n",
    "q4_occurrences = naive(p4, lambda_genome)\n",
    "print(f'offset of leftmost occurrence: {min(q4_occurrences)}')\n",
    "q4_occurrences2 = naive(reverseComplement(p4), lambda_genome)\n",
    "print(f'offset of leftmost occurrence: {min(q4_occurrences2)}')"
   ]
  },
  {
   "cell_type": "code",
   "execution_count": 64,
   "metadata": {},
   "outputs": [
    {
     "name": "stdout",
     "output_type": "stream",
     "text": [
      "191\n"
     ]
    }
   ],
   "source": [
    "# question 5\n",
    "p5 = 'TTCAAGCC'\n",
    "q5_occurrences = naive_2mm(p5, lambda_genome)\n",
    "print(len(q5_occurrences))"
   ]
  },
  {
   "cell_type": "code",
   "execution_count": 65,
   "metadata": {},
   "outputs": [
    {
     "name": "stdout",
     "output_type": "stream",
     "text": [
      "offset of leftmost occurrence: 49\n"
     ]
    }
   ],
   "source": [
    "# question 6\n",
    "p6 = 'AGGAGGTT'\n",
    "q6_occurrences = naive_2mm(p6, lambda_genome)\n",
    "print(f'offset of leftmost occurrence: {min(q6_occurrences)}')"
   ]
  },
  {
   "cell_type": "code",
   "execution_count": 76,
   "metadata": {},
   "outputs": [
    {
     "name": "stdout",
     "output_type": "stream",
     "text": [
      "[39, 39, 39, 39, 39, 39, 39, 39, 39, 39, 39, 39, 39, 39, 39, 39, 39, 39, 39, 39, 39, 39, 39, 39, 39, 39, 39, 39, 39, 39, 39, 39, 39, 39, 39, 39, 39, 39, 39, 39, 39, 39, 39, 39, 39, 39, 39, 39, 39, 39, 39, 39, 39, 39, 39, 39, 40, 39, 36, 39, 38, 39, 37, 39, 39, 28, 2, 28, 29, 29, 37, 37, 37, 37, 33, 40, 40, 39, 38, 36, 39, 36, 36, 38, 38, 36, 39, 29, 39, 38, 30, 25, 35, 30, 35, 33, 35, 37, 37, 33]\n"
     ]
    },
    {
     "data": {
      "image/png": "[encoded data removed]",
      "text/plain": [
       "<Figure size 432x288 with 1 Axes>"
      ]
     },
     "metadata": {
      "needs_background": "light"
     },
     "output_type": "display_data"
    },
    {
     "name": "stdout",
     "output_type": "stream",
     "text": [
      "66\n"
     ]
    }
   ],
   "source": [
    "# question 7\n",
    "#!wget https://d28rh4a8wq0iu5.cloudfront.net/ads1/data/ERR037900_1.first1000.fastq\n",
    "\n",
    "def createHist(qualities):\n",
    "    sequences, qualities = readFastq('ERR037900_1.first1000.fastq')\n",
    "    phredscore = []\n",
    "    qualities = qualities[-5]\n",
    "    for phred in qualities:\n",
    "        q = ord(phred)-33\n",
    "        phredscore.append(q)\n",
    "    return phredscore\n",
    "h = createHist(qualities)\n",
    "print (h)\n",
    "import matplotlib.pyplot as plt\n",
    "plt.bar(range(len(h)), h)\n",
    "plt.show()\n",
    "min_h = min(h)\n",
    "index_min_h = h.index(min_h)\n",
    "print(index_min_h)"
   ]
  },
  {
   "cell_type": "code",
   "execution_count": null,
   "metadata": {},
   "outputs": [],
   "source": []
  }
 ],
 "metadata": {
  "kernelspec": {
   "display_name": "Python [conda env:genomics]",
   "language": "python",
   "name": "conda-env-genomics-py"
  },
  "language_info": {
   "codemirror_mode": {
    "name": "ipython",
    "version": 3
   },
   "file_extension": ".py",
   "mimetype": "text/x-python",
   "name": "python",
   "nbconvert_exporter": "python",
   "pygments_lexer": "ipython3",
   "version": "3.9.7"
  }
 },
 "nbformat": 4,
 "nbformat_minor": 4
}
